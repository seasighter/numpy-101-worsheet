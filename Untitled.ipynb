{
 "cells": [
  {
   "cell_type": "code",
   "execution_count": 1,
   "id": "43e9ef5b",
   "metadata": {},
   "outputs": [],
   "source": [
    "# Numpy practice  worksheet  "
   ]
  },
  {
   "cell_type": "code",
   "execution_count": 2,
   "id": "65379279",
   "metadata": {},
   "outputs": [],
   "source": [
    "# Q1: Import numpy as np and see the version (level1)"
   ]
  },
  {
   "cell_type": "code",
   "execution_count": 5,
   "id": "93027240",
   "metadata": {},
   "outputs": [
    {
     "name": "stdout",
     "output_type": "stream",
     "text": [
      "1.24.3\n"
     ]
    }
   ],
   "source": [
    "import numpy as np \n",
    "print(np.__version__) # to check version"
   ]
  },
  {
   "cell_type": "code",
   "execution_count": 6,
   "id": "6522ee7c",
   "metadata": {},
   "outputs": [],
   "source": [
    "# Q2: Create a 1D array of numbers from 0 to 9"
   ]
  },
  {
   "cell_type": "code",
   "execution_count": 8,
   "id": "c0622496",
   "metadata": {},
   "outputs": [
    {
     "name": "stdout",
     "output_type": "stream",
     "text": [
      "[0 1 2 3 4 5 6 7 8 9]\n"
     ]
    }
   ],
   "source": [
    "arr=np.arange(10)  # arange(start,stop)\n",
    "print(arr)"
   ]
  },
  {
   "cell_type": "code",
   "execution_count": 9,
   "id": "96996127",
   "metadata": {},
   "outputs": [],
   "source": [
    "# Q3: Create a 3×3 numpy array of all True’s"
   ]
  },
  {
   "cell_type": "code",
   "execution_count": 11,
   "id": "315487ed",
   "metadata": {},
   "outputs": [
    {
     "data": {
      "text/plain": [
       "array([[ True,  True,  True],\n",
       "       [ True,  True,  True],\n",
       "       [ True,  True,  True]])"
      ]
     },
     "execution_count": 11,
     "metadata": {},
     "output_type": "execute_result"
    }
   ],
   "source": [
    "np.full((3,3),True)  # np.full(size,fill_value,)"
   ]
  },
  {
   "cell_type": "code",
   "execution_count": 17,
   "id": "560cf932",
   "metadata": {},
   "outputs": [
    {
     "name": "stdout",
     "output_type": "stream",
     "text": [
      "[1, 3, 5, 7, 9]\n"
     ]
    },
    {
     "data": {
      "text/plain": [
       "array([1, 3, 5, 7, 9])"
      ]
     },
     "execution_count": 17,
     "metadata": {},
     "output_type": "execute_result"
    }
   ],
   "source": [
    "# Q. Extract all odd numbers from arr\n",
    "# input\n",
    "# desired output  array([1, 3, 5, 7, 9])\n",
    "# step 1 usual way\n",
    "list=[]\n",
    "for i in arr:\n",
    "    if i % 2 !=0:\n",
    "        list.append(i)\n",
    "print(list)\n",
    "        \n",
    "# step 2 good way\n",
    "arr[arr%2!=0]\n"
   ]
  },
  {
   "cell_type": "code",
   "execution_count": 19,
   "id": "234ea63a",
   "metadata": {},
   "outputs": [],
   "source": [
    "# Q. Replace all odd numbers in arr with -1\n",
    "\n",
    " #Input:\n",
    "\n",
    "arr = np.array([0, 1, 2, 3, 4, 5, 6, 7, 8, 9])"
   ]
  },
  {
   "cell_type": "code",
   "execution_count": 27,
   "id": "731d3f09",
   "metadata": {},
   "outputs": [
    {
     "name": "stdout",
     "output_type": "stream",
     "text": [
      "[ 0 -1  2 -1  4 -1  6 -1  8 -1]\n",
      "[ 0 -1  2 -1  4 -1  6 -1  8 -1]\n"
     ]
    }
   ],
   "source": [
    "# method 1\n",
    "temp=-1\n",
    "for i in range(len(arr)):\n",
    "    if i%2!=0:\n",
    "        arr[i]=temp\n",
    "print(arr)\n",
    "\n",
    "# method 2\n",
    "\n",
    "arr[arr%2!=0]=-1\n",
    "print(arr)"
   ]
  },
  {
   "cell_type": "code",
   "execution_count": 28,
   "id": "1c903257",
   "metadata": {},
   "outputs": [],
   "source": [
    "# difficulty level 2 \n"
   ]
  },
  {
   "cell_type": "code",
   "execution_count": 29,
   "id": "8822af71",
   "metadata": {},
   "outputs": [],
   "source": [
    "# Q. Replace all odd numbers in arr with -1 without changing arr\n",
    "\n",
    "# Input:\n",
    "\n",
    "arr = np.array([0, 1, 2, 3, 4, 5, 6, 7, 8, 9])"
   ]
  },
  {
   "cell_type": "code",
   "execution_count": 41,
   "id": "4a22a350",
   "metadata": {
    "scrolled": true
   },
   "outputs": [
    {
     "name": "stdout",
     "output_type": "stream",
     "text": [
      "[0 1 2 3 4 5 6 7 8 9]\n",
      "[ 0 -1  2 -1  4 -1  6 -1  8 -1]\n",
      "[0 1 2 3 4 5 6 7 8 9]\n",
      "[ 0 -1  2 -1  4 -1  6 -1  8 -1]\n"
     ]
    }
   ],
   "source": [
    "# method 1 without copying the arr using where \n",
    "result=np.where(arr%2!=0,-1,arr)  # creates new array \n",
    "print(arr) # original array remain unchnged\n",
    "print(result)\n",
    "\n",
    "# method 2\n",
    "# with copying arr and then applying condition\n",
    "new_arr=np.copy(arr)\n",
    "new_arr[new_arr%2!=0]=-1\n",
    "print(arr)\n",
    "print(new_arr)"
   ]
  },
  {
   "cell_type": "markdown",
   "id": "b4870986",
   "metadata": {},
   "source": [
    "# How to reshape an array ?\n",
    "## difficulty level 1"
   ]
  },
  {
   "cell_type": "code",
   "execution_count": 62,
   "id": "13ff1263",
   "metadata": {},
   "outputs": [],
   "source": [
    "# Q : convert 1D array in 2D array with 2 rows \n",
    "# input \n",
    "inputa=np.arange(10)\n"
   ]
  },
  {
   "cell_type": "code",
   "execution_count": 63,
   "id": "7ebedc08",
   "metadata": {},
   "outputs": [
    {
     "data": {
      "text/plain": [
       "array([[0, 1, 2, 3, 4],\n",
       "       [5, 6, 7, 8, 9]])"
      ]
     },
     "execution_count": 63,
     "metadata": {},
     "output_type": "execute_result"
    }
   ],
   "source": [
    "inputa.reshape(2,-1)  # reshape function reshapes the array syntax reshape(rows,col) setting -1 will automatically select columns"
   ]
  },
  {
   "cell_type": "code",
   "execution_count": 65,
   "id": "a66d7fd6",
   "metadata": {},
   "outputs": [
    {
     "ename": "SyntaxError",
     "evalue": "invalid syntax (576792952.py, line 1)",
     "output_type": "error",
     "traceback": [
      "\u001b[1;36m  Cell \u001b[1;32mIn[65], line 1\u001b[1;36m\u001b[0m\n\u001b[1;33m    git init .\u001b[0m\n\u001b[1;37m        ^\u001b[0m\n\u001b[1;31mSyntaxError\u001b[0m\u001b[1;31m:\u001b[0m invalid syntax\n"
     ]
    }
   ],
   "source": [
    "\n"
   ]
  },
  {
   "cell_type": "code",
   "execution_count": null,
   "id": "ed72ed55",
   "metadata": {},
   "outputs": [],
   "source": [
    " "
   ]
  }
 ],
 "metadata": {
  "kernelspec": {
   "display_name": "Python 3 (ipykernel)",
   "language": "python",
   "name": "python3"
  },
  "language_info": {
   "codemirror_mode": {
    "name": "ipython",
    "version": 3
   },
   "file_extension": ".py",
   "mimetype": "text/x-python",
   "name": "python",
   "nbconvert_exporter": "python",
   "pygments_lexer": "ipython3",
   "version": "3.11.5"
  }
 },
 "nbformat": 4,
 "nbformat_minor": 5
}
